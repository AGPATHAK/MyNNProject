{
 "cells": [
  {
   "cell_type": "markdown",
   "metadata": {
    "heading_collapsed": true
   },
   "source": [
    "## Setup"
   ]
  },
  {
   "cell_type": "code",
   "execution_count": 5,
   "metadata": {},
   "outputs": [],
   "source": [
    "from __future__ import print_function\n",
    "\n",
    "''' \n",
    "Preprocess audio\n",
    "'''\n",
    "import numpy as np\n",
    "import librosa"
   ]
  },
  {
   "cell_type": "code",
   "execution_count": 6,
   "metadata": {},
   "outputs": [],
   "source": [
    "import librosa.display\n",
    "import os"
   ]
  },
  {
   "cell_type": "code",
   "execution_count": 7,
   "metadata": {},
   "outputs": [],
   "source": [
    "def get_class_names(path=\"Samples/\"):  # class names are subdirectory names in Samples/ directory\n",
    "    class_names = os.listdir(path)\n",
    "    print(class_names)\n",
    "    return class_names"
   ]
  },
  {
   "cell_type": "code",
   "execution_count": 8,
   "metadata": {},
   "outputs": [],
   "source": [
    "def preprocess_dataset(inpath=\"Samples/\", outpath=\"Preproc/\"):\n",
    "\n",
    "    if not os.path.exists(outpath):\n",
    "        os.mkdir( outpath, 0755 );   # make a new directory for preproc'd files\n",
    "\n",
    "    class_names = get_class_names(path=inpath)   # get the names of the subdirectories\n",
    "    nb_classes = len(class_names)\n",
    "    print(\"class_names = \",class_names)\n",
    "    for idx, classname in enumerate(class_names):   # go through the subdirs\n",
    "\n",
    "        if not os.path.exists(outpath+classname):\n",
    "            os.mkdir( outpath+classname, 0755 );   # make a new subdirectory for preproc class\n",
    "\n",
    "        class_files = os.listdir(inpath+classname)\n",
    "        n_files = len(class_files)\n",
    "        n_load = n_files\n",
    "        print(' class name = {:14s} - {:3d}'.format(classname,idx),\n",
    "            \", \",n_files,\" files in this class\",sep=\"\")\n",
    "\n",
    "        printevery = 20\n",
    "        for idx2, infilename in enumerate(class_files):\n",
    "            audio_path = inpath + classname + '/' + infilename\n",
    "            if (0 == idx2 % printevery):\n",
    "                print('\\r Loading class: {:14s} ({:2d} of {:2d} classes)'.format(classname,idx+1,nb_classes),\n",
    "                       \", file \",idx2+1,\" of \",n_load,\": \",audio_path,sep=\"\")\n",
    "            #start = timer()\n",
    "            aud, sr = librosa.load(audio_path, sr=None)\n",
    "            melgram = librosa.logamplitude(librosa.feature.melspectrogram(aud, sr=sr, n_mels=96),ref_power=1.0)[np.newaxis,np.newaxis,:,:]\n",
    "            outfile = outpath + classname + '/' + infilename+'.npy'\n",
    "            np.save(outfile,melgram)"
   ]
  },
  {
   "cell_type": "code",
   "execution_count": null,
   "metadata": {},
   "outputs": [],
   "source": []
  },
  {
   "cell_type": "code",
   "execution_count": null,
   "metadata": {},
   "outputs": [],
   "source": []
  }
 ],
 "metadata": {
  "kernelspec": {
   "display_name": "Python 2",
   "language": "python",
   "name": "python2"
  },
  "language_info": {
   "codemirror_mode": {
    "name": "ipython",
    "version": 2
   },
   "file_extension": ".py",
   "mimetype": "text/x-python",
   "name": "python",
   "nbconvert_exporter": "python",
   "pygments_lexer": "ipython2",
   "version": "2.7.14"
  },
  "nav_menu": {},
  "toc": {
   "navigate_menu": true,
   "number_sections": true,
   "sideBar": true,
   "threshold": 6,
   "toc_cell": false,
   "toc_section_display": "block",
   "toc_window_display": false
  },
  "widgets": {
   "state": {},
   "version": "1.1.2"
  }
 },
 "nbformat": 4,
 "nbformat_minor": 1
}
