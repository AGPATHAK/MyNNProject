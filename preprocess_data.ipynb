{
 "cells": [
  {
   "cell_type": "code",
   "execution_count": 11,
   "metadata": {},
   "outputs": [],
   "source": [
    "# %load preprocess_data.py\n",
    "from __future__ import print_function\n",
    "\n",
    "''' \n",
    "Preprocess audio\n",
    "'''\n",
    "import numpy as np\n",
    "import librosa\n",
    "import librosa.display\n",
    "import os\n",
    "\n",
    "def get_class_names(path=\"Samples/\"):  # class names are subdirectory names in Samples/ directory\n",
    "#    class_names = os.listdir(path)\n",
    "# Command below removes .* files (here .DS_Store file)\n",
    "class_names = [f for f in os.listdir(\"Samples/\") if not f.startswith('.')]\n",
    "    return class_names\n"
   ]
  },
  {
   "cell_type": "code",
   "execution_count": 12,
   "metadata": {},
   "outputs": [
    {
     "name": "stdout",
     "output_type": "stream",
     "text": [
      "class_names =  ['flute', 'tabla']\n"
     ]
    }
   ],
   "source": [
    "inpath=\"Samples/\"\n",
    "class_names = get_class_names(path=inpath)   # get the names of the subdirectories\n",
    "nb_classes = len(class_names)\n",
    "print(\"class_names = \",class_names)"
   ]
  },
  {
   "cell_type": "code",
   "execution_count": 14,
   "metadata": {},
   "outputs": [
    {
     "name": "stdout",
     "output_type": "stream",
     "text": [
      "class_names =  ['flute', 'tabla']\n",
      " class name = flute          -   0, 25 files in this class\n",
      " Loading class: flute          ( 1 of  2 classes), file 1 of 25: Samples/flute/f10.wav\n",
      " Loading class: flute          ( 1 of  2 classes), file 21 of 25: Samples/flute/f4.wav\n",
      " class name = tabla          -   1, 25 files in this class\n",
      " Loading class: tabla          ( 2 of  2 classes), file 1 of 25: Samples/tabla/t1.wav\n",
      " Loading class: tabla          ( 2 of  2 classes), file 21 of 25: Samples/tabla/t4.wav\n"
     ]
    }
   ],
   "source": [
    "def preprocess_dataset(inpath=\"Samples/\", outpath=\"Preproc/\"):\n",
    "\n",
    "    if not os.path.exists(outpath):\n",
    "        os.mkdir( outpath, 0755 );   # make a new directory for preproc'd files\n",
    "\n",
    "    class_names = get_class_names(path=inpath)   # get the names of the subdirectories\n",
    "    nb_classes = len(class_names)\n",
    "    print(\"class_names = \",class_names)\n",
    "    for idx, classname in enumerate(class_names):   # go through the subdirs\n",
    "\n",
    "        if not os.path.exists(outpath+classname):\n",
    "            os.mkdir( outpath+classname, 0755 );   # make a new subdirectory for preproc class\n",
    "\n",
    "# class_files = os.listdir(inpath+classname)\n",
    "# Command below removes .* files (here .DS_Store file\n",
    "        class_files = [f for f in os.listdir(inpath+classname) if not f.startswith('.')]\n",
    "        n_files = len(class_files)\n",
    "        n_load = n_files\n",
    "        print(' class name = {:14s} - {:3d}'.format(classname,idx),\n",
    "            \", \",n_files,\" files in this class\",sep=\"\")\n",
    "\n",
    "        printevery = 20\n",
    "        for idx2, infilename in enumerate(class_files):\n",
    "            audio_path = inpath + classname + '/' + infilename\n",
    "            if (0 == idx2 % printevery):\n",
    "                print('\\r Loading class: {:14s} ({:2d} of {:2d} classes)'.format(classname,idx+1,nb_classes),\n",
    "                       \", file \",idx2+1,\" of \",n_load,\": \",audio_path,sep=\"\")\n",
    "            #start = timer()\n",
    "            aud, sr = librosa.load(audio_path, sr=None)\n",
    "            melgram = librosa.logamplitude(librosa.feature.melspectrogram(aud, sr=sr, n_mels=96),ref_power=1.0)[np.newaxis,np.newaxis,:,:]\n",
    "            outfile = outpath + classname + '/' + infilename+'.npy'\n",
    "            np.save(outfile,melgram)\n",
    "\n",
    "if __name__ == '__main__':\n",
    "    preprocess_dataset()"
   ]
  },
  {
   "cell_type": "code",
   "execution_count": null,
   "metadata": {},
   "outputs": [],
   "source": []
  }
 ],
 "metadata": {
  "kernelspec": {
   "display_name": "Python 2",
   "language": "python",
   "name": "python2"
  },
  "language_info": {
   "codemirror_mode": {
    "name": "ipython",
    "version": 2
   },
   "file_extension": ".py",
   "mimetype": "text/x-python",
   "name": "python",
   "nbconvert_exporter": "python",
   "pygments_lexer": "ipython2",
   "version": "2.7.14"
  }
 },
 "nbformat": 4,
 "nbformat_minor": 2
}
